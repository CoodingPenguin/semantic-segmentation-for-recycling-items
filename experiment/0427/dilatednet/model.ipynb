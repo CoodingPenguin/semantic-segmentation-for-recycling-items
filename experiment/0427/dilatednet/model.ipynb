{
 "cells": [
  {
   "cell_type": "code",
   "execution_count": 2,
   "id": "completed-blond",
   "metadata": {},
   "outputs": [],
   "source": [
    "import torch\n",
    "import torch.nn as nn\n",
    "import torch.optim as optim\n",
    "from torchvision import models\n",
    "from torchvision.models import vgg16"
   ]
  },
  {
   "cell_type": "code",
   "execution_count": 2,
   "id": "dressed-groove",
   "metadata": {},
   "outputs": [],
   "source": [
    "# 중복블럭 생성용\n",
    "def conv_relu(in_ch, out_ch, size, rate):\n",
    "        conv_relu = nn.Sequential(nn.Conv2d(in_channels=in_ch,\n",
    "                                            out_channels=out_ch,\n",
    "                                            kernel_size=size,\n",
    "                                            stride=1,\n",
    "                                            padding=rate,\n",
    "                                            dilation=rate), \n",
    "                                 nn.ReLU())\n",
    "        return conv_relu"
   ]
  },
  {
   "cell_type": "code",
   "execution_count": 3,
   "id": "unlimited-cover",
   "metadata": {},
   "outputs": [],
   "source": [
    "class Backbone(nn.Module):\n",
    "    def __init__(self):\n",
    "        super().__init__()\n",
    "#         self.features1 = nn.Sequential(conv_relu(3, 64, 3, 1),\n",
    "#                                        conv_relu(64, 64, 3, 1),\n",
    "#                                        nn.MaxPool2d(2, stride=2, padding=0))\n",
    "#         #112\n",
    "        \n",
    "#         self.features2 = nn.Sequential(conv_relu(64, 128, 3, 1),\n",
    "#                                        conv_relu(128, 128, 3, 1),\n",
    "#                                        nn.MaxPool2d(2, stride=2, padding=0))\n",
    "#         #56\n",
    "        \n",
    "#         self.features3 = nn.Sequential(conv_relu(128, 256, 3, 1),\n",
    "#                                        conv_relu(256, 256, 3, 1),\n",
    "#                                        conv_relu(256, 256, 3, 1),\n",
    "#                                        nn.MaxPool2d(2, stride=2, padding=0))\n",
    "#         #28\n",
    "        \n",
    "#         self.features4 = nn.Sequential(conv_relu(256, 512, 3, 1),\n",
    "#                                        conv_relu(512, 512, 3, 1),\n",
    "#                                        conv_relu(512, 512, 3, 1))\n",
    "        back = vgg16(pretrained=True)\n",
    "        self.conv4 = back.features[:23]\n",
    "        #28\n",
    "        \n",
    "        self.features5 = nn.Sequential(conv_relu(512, 512, 3, 2),\n",
    "                                       conv_relu(512, 512, 3, 2),\n",
    "                                       conv_relu(512, 512, 3, 2))\n",
    "         #28\n",
    "        \n",
    "            \n",
    "    def forward(self, x):\n",
    "        x = self.conv4(x)\n",
    "        x = self.features5(x)\n",
    "        \n",
    "        return x"
   ]
  },
  {
   "cell_type": "code",
   "execution_count": 4,
   "id": "celtic-report",
   "metadata": {},
   "outputs": [],
   "source": [
    "class Classifier(nn.Module):\n",
    "    def __init__(self, num_classes):\n",
    "        super().__init__()\n",
    "        self.classifier = nn.Sequential(nn.Conv2d(512, 4096, kernel_size=7, dilation=4, padding=12),\n",
    "                                        nn.ReLU(),\n",
    "                                        nn.Dropout2d(0.5),\n",
    "                                        nn.Conv2d(4096, 4096, 1),\n",
    "                                        nn.ReLU(),\n",
    "                                        nn.Dropout2d(0.5),\n",
    "                                        nn.Conv2d(4096, num_classes, kernel_size=1))\n",
    "\n",
    "    def forward(self, x):\n",
    "        x = self.classifier(x)\n",
    "        return x"
   ]
  },
  {
   "cell_type": "code",
   "execution_count": 5,
   "id": "pending-mayor",
   "metadata": {},
   "outputs": [],
   "source": [
    "class BasicContextModule(nn.Module):\n",
    "    def __init__(self, num_classes):\n",
    "        super().__init__()\n",
    "        \n",
    "        self.context_module = nn.Sequential(conv_relu(num_classes, num_classes, 3, 1),\n",
    "                                            conv_relu(num_classes, num_classes, 3, 1),\n",
    "                                            conv_relu(num_classes, num_classes, 3, 2),\n",
    "                                            conv_relu(num_classes, num_classes, 3, 4),\n",
    "                                            conv_relu(num_classes, num_classes, 3, 8),\n",
    "                                            conv_relu(num_classes, num_classes, 3, 16),\n",
    "                                            conv_relu(num_classes, num_classes, 3, 1),\n",
    "                                            #No Truncation\n",
    "                                            nn.Conv2d(num_classes, num_classes, kernel_size=1))\n",
    "        \n",
    "    def forward(self, x):\n",
    "        x = self.context_module(x)\n",
    "        \n",
    "        return x"
   ]
  },
  {
   "cell_type": "code",
   "execution_count": 6,
   "id": "provincial-cover",
   "metadata": {},
   "outputs": [],
   "source": [
    "class DilatedNet(nn.Module):\n",
    "    def __init__(self, backbone, classifier, context_module, num_classes):\n",
    "        super().__init__()\n",
    "        self.backbone = backbone\n",
    "        self.classifier = classifier\n",
    "        self.context_module = context_module\n",
    "        self.deconv = nn.ConvTranspose2d(in_channels=num_classes,\n",
    "                                         out_channels=num_classes,\n",
    "                                         kernel_size=16,\n",
    "                                         stride=8,\n",
    "                                         padding=4)\n",
    "                \n",
    "    def forward(self, x):\n",
    "        x = self.backbone(x)\n",
    "        x = self.classifier(x)\n",
    "        x = self.context_module(x)\n",
    "        x = self.deconv(x)\n",
    "        \n",
    "        return x"
   ]
  },
  {
   "cell_type": "code",
   "execution_count": 7,
   "id": "desirable-equipment",
   "metadata": {},
   "outputs": [
    {
     "name": "stdout",
     "output_type": "stream",
     "text": [
      "input shape :  torch.Size([1, 3, 224, 224])\n",
      "torch.Size([1, 12, 28, 28])\n",
      "torch.Size([1, 12, 28, 28])\n",
      "output shape :  torch.Size([1, 12, 224, 224])\n"
     ]
    }
   ],
   "source": [
    "# 구현된 model에 임의의 input을 넣어 output이 잘 나오는지 test\n",
    "# device = \"cuda\" if torch.cuda.is_available() else \"cpu\"\n",
    "# backbone = Backbone()\n",
    "# classifier = Classifier(12)\n",
    "# context_module = BasicContextModule(12)\n",
    "# model = DilatedNet(backbone , classifier, context_module, num_classes=12)\n",
    "# x = torch.randn([1, 3, 224, 224])\n",
    "# print(\"input shape : \", x.shape)\n",
    "# out = model(x).to(device)\n",
    "# print(\"output shape : \", out.size())\n",
    "\n",
    "# model = model.to(device)"
   ]
  },
  {
   "cell_type": "code",
   "execution_count": null,
   "id": "confirmed-board",
   "metadata": {},
   "outputs": [],
   "source": []
  }
 ],
 "metadata": {
  "kernelspec": {
   "name": "python385jvsc74a57bd0a0332be56aeecbfe87fdbab10fa160ecba1bc78914da18df6baaf6bc280516b0",
   "display_name": "Python 3.8.5 64-bit ('ml': conda)"
  },
  "language_info": {
   "codemirror_mode": {
    "name": "ipython",
    "version": 3
   },
   "file_extension": ".py",
   "mimetype": "text/x-python",
   "name": "python",
   "nbconvert_exporter": "python",
   "pygments_lexer": "ipython3",
   "version": "3.8.5"
  }
 },
 "nbformat": 4,
 "nbformat_minor": 5
}